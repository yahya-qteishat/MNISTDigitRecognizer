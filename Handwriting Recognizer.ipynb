{
 "cells": [
  {
   "cell_type": "code",
   "execution_count": 53,
   "metadata": {},
   "outputs": [],
   "source": [
    "import numpy as np # for data manipulation\n",
    "import pandas as pd # for data manipulation\n",
    "\n",
    "import matplotlib.pyplot as plt # for data visualization\n",
    "%matplotlib inline # Allows us to print in Jupyter.\n",
    "\n",
    "import tensorflow as tf # machine learning library."
   ]
  },
  {
   "cell_type": "code",
   "execution_count": 54,
   "metadata": {},
   "outputs": [],
   "source": [
    "MNIST = tf.keras.datasets.mnist # import our data\n",
    "\n",
    "(X_train, y_train), (x_test, y_test) = MNIST.load_data()\n",
    "''' We split our data into a training set to fit the model \n",
    "onto, and a testing set to evaluate the model with. '''"
   ]
  },
  {
   "cell_type": "code",
   "execution_count": 55,
   "metadata": {},
   "outputs": [
    {
     "data": {
      "text/plain": [
       "<matplotlib.image.AxesImage at 0x15ff8e1f0>"
      ]
     },
     "execution_count": 55,
     "metadata": {},
     "output_type": "execute_result"
    },
    {
     "data": {
      "image/png": "[encoded data removed]",
      "text/plain": [
       "<Figure size 432x288 with 1 Axes>"
      ]
     },
     "metadata": {
      "needs_background": "light"
     },
     "output_type": "display_data"
    }
   ],
   "source": [
    "plt.imshow(X_train[0],cmap='gist_gray')"
   ]
  },
  {
   "cell_type": "code",
   "execution_count": 56,
   "metadata": {},
   "outputs": [],
   "source": [
    "''' Normalizing our data: pixel values in each array\n",
    "will now range from 0-1. This is a common practice.'''\n",
    "X_train = tf.keras.utils.normalize(X_train, axis=1)\n",
    "x_test = tf.keras.utils.normalize(x_test, axis=1)"
   ]
  },
  {
   "cell_type": "code",
   "execution_count": 57,
   "metadata": {},
   "outputs": [
    {
     "data": {
      "text/plain": [
       "<matplotlib.image.AxesImage at 0x15fe7ffa0>"
      ]
     },
     "execution_count": 57,
     "metadata": {},
     "output_type": "execute_result"
    },
    {
     "data": {
      "image/png": "[encoded data removed]",
      "text/plain": [
       "<Figure size 432x288 with 1 Axes>"
      ]
     },
     "metadata": {
      "needs_background": "light"
     },
     "output_type": "display_data"
    }
   ],
   "source": [
    "plt.imshow(X_train[0],cmap='gist_gray')"
   ]
  },
  {
   "cell_type": "code",
   "execution_count": 58,
   "metadata": {},
   "outputs": [],
   "source": [
    "#Defining our model using Tensorflow / Keras:\n",
    "\n",
    "from tensorflow.keras.models import Sequential\n",
    "from tensorflow.keras.layers import Dense, Flatten\n",
    "\n",
    "model = Sequential() # defining model object as a sequence of layers.\n",
    "\n",
    "#input layer of ANN:\n",
    "model.add(Flatten()) ''' The \"Flatten\" layer converts the 2D \n",
    "array of pixel values (the \"image\") into a one dimensional series.'''\n",
    "\n",
    "# hidden layers of ANN:\n",
    "'''hidden layers: \"Dense\" meaning each neuron in one layer is \n",
    "connected to every neuron in the next layer.\n",
    "A recitified linear unit is a common activation function '''\n",
    "\n",
    "model.add(Dense(64, activation='relu')) # 64 neurons \n",
    "model.add(Dense(32, activation='relu')) # 32 neurons\n",
    "\n",
    "#output layer of ANN:\n",
    "''' We are preforming multi class classfication, therefore we \n",
    "need an output neuron for each number an image could represent, 10.\n",
    "\n",
    "Each class is mutually exclusive, therefore we use softmax as our\n",
    "activation function. Each output neuron will represent the \n",
    "probability that an image was the number ranging from 0-9. '''\n",
    "\n",
    "model.add(Dense(10, activation='softmax')) # 10 neurons\n",
    "\n",
    "'''We will optimize gradient descent with the adam optimizer.\n",
    "Cross entropy is a common loss function for classfication.\n",
    "We will keep track of the accuracy metric whilst parsing data'''\n",
    "\n",
    "model.compile(optimizer='adam',loss='sparse_categorical_crossentropy',\n",
    "             metrics=['accuracy'])\n"
   ]
  },
  {
   "cell_type": "code",
   "execution_count": 59,
   "metadata": {},
   "outputs": [
    {
     "name": "stdout",
     "output_type": "stream",
     "text": [
      "Epoch 1/3\n",
      "1875/1875 [==============================] - 2s 1ms/step - loss: 0.3344 - accuracy: 0.9053\n",
      "Epoch 2/3\n",
      "1875/1875 [==============================] - 3s 1ms/step - loss: 0.1562 - accuracy: 0.9533\n",
      "Epoch 3/3\n",
      "1875/1875 [==============================] - 3s 1ms/step - loss: 0.1127 - accuracy: 0.9660\n"
     ]
    },
    {
     "data": {
      "text/plain": [
       "<tensorflow.python.keras.callbacks.History at 0x1609ed490>"
      ]
     },
     "execution_count": 59,
     "metadata": {},
     "output_type": "execute_result"
    }
   ],
   "source": [
    "model.fit(X_train, y_train, epochs = 3)"
   ]
  },
  {
   "cell_type": "code",
   "execution_count": 60,
   "metadata": {},
   "outputs": [],
   "source": [
    "losses = pd.DataFrame(model.history.history)"
   ]
  },
  {
   "cell_type": "code",
   "execution_count": 67,
   "metadata": {},
   "outputs": [
    {
     "data": {
      "text/plain": [
       "<matplotlib.axes._subplots.AxesSubplot at 0x160baf400>"
      ]
     },
     "execution_count": 67,
     "metadata": {},
     "output_type": "execute_result"
    },
    {
     "data": {
      "image/png": "[encoded data removed]",
      "text/plain": [
       "<Figure size 432x288 with 1 Axes>"
      ]
     },
     "metadata": {
      "needs_background": "light"
     },
     "output_type": "display_data"
    }
   ],
   "source": [
    "losses.plot()"
   ]
  },
  {
   "cell_type": "code",
   "execution_count": 61,
   "metadata": {},
   "outputs": [],
   "source": [
    "from sklearn.metrics import classification_report"
   ]
  },
  {
   "cell_type": "code",
   "execution_count": 62,
   "metadata": {},
   "outputs": [],
   "source": [
    "predictions = np.argmax(model.predict(x_test), axis=-1)"
   ]
  },
  {
   "cell_type": "code",
   "execution_count": 63,
   "metadata": {},
   "outputs": [
    {
     "name": "stdout",
     "output_type": "stream",
     "text": [
      "              precision    recall  f1-score   support\n",
      "\n",
      "           0       0.97      0.98      0.98       980\n",
      "           1       0.98      0.98      0.98      1135\n",
      "           2       0.96      0.97      0.96      1032\n",
      "           3       0.95      0.96      0.95      1010\n",
      "           4       0.96      0.96      0.96       982\n",
      "           5       0.96      0.96      0.96       892\n",
      "           6       0.96      0.97      0.97       958\n",
      "           7       0.97      0.97      0.97      1028\n",
      "           8       0.94      0.95      0.95       974\n",
      "           9       0.98      0.92      0.95      1009\n",
      "\n",
      "    accuracy                           0.96     10000\n",
      "   macro avg       0.96      0.96      0.96     10000\n",
      "weighted avg       0.96      0.96      0.96     10000\n",
      "\n"
     ]
    }
   ],
   "source": [
    "from sklearn.metrics import classification_report\n",
    "print(classification_report(y_test,predictions))"
   ]
  },
  {
   "cell_type": "code",
   "execution_count": 64,
   "metadata": {},
   "outputs": [
    {
     "name": "stdout",
     "output_type": "stream",
     "text": [
      "[[ 960    0    3    1    0    3    6    2    4    1]\n",
      " [   0 1114    5    0    0    0    3    1   12    0]\n",
      " [   4    1  999    7    3    0    5    6    7    0]\n",
      " [   0    0    6  969    2   12    1    6   12    2]\n",
      " [   0    0    7    0  946    0   12    5    5    7]\n",
      " [   4    0    1    8    2  860    9    1    5    2]\n",
      " [   6    2    2    0    2    9  934    0    3    0]\n",
      " [   3    4   15    8    2    0    0  993    0    3]\n",
      " [   4    3    4   13    5    4    5    5  929    2]\n",
      " [   5    8    2   14   20   11    0   10   10  929]]\n"
     ]
    }
   ],
   "source": [
    "print(confusion_matrix(y_test,predictions))"
   ]
  },
  {
   "cell_type": "code",
   "execution_count": 68,
   "metadata": {},
   "outputs": [],
   "source": [
    "model.save(\"YahyaModel.h5\")"
   ]
  },
  {
   "cell_type": "code",
   "execution_count": null,
   "metadata": {},
   "outputs": [],
   "source": []
  }
 ],
 "metadata": {
  "kernelspec": {
   "display_name": "Python 3",
   "language": "python",
   "name": "python3"
  },
  "language_info": {
   "codemirror_mode": {
    "name": "ipython",
    "version": 3
   },
   "file_extension": ".py",
   "mimetype": "text/x-python",
   "name": "python",
   "nbconvert_exporter": "python",
   "pygments_lexer": "ipython3",
   "version": "3.8.3"
  }
 },
 "nbformat": 4,
 "nbformat_minor": 4
}
